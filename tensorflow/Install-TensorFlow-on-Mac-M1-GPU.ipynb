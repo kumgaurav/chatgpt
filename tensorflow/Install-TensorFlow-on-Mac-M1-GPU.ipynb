{
 "cells": [
  {
   "cell_type": "markdown",
   "id": "f767d75a",
   "metadata": {},
   "source": [
    "# Install TensorFlow on Mac M1/M2 with GPU support\n",
    "Install TensorFlow in a few steps on Mac M1/M2 with GPU support and benefit <br>\n",
    "from the native performance of the new Mac Silicon ARM64 architecture.\n",
    "\n",
    "The article to this project is published on Medium: https://medium.com/@deganza11/install-tensorflow-on-mac-m1-m2-with-gpu-support-c404c6cfb580\n",
    "\n"
   ]
  },
  {
   "cell_type": "markdown",
   "id": "c044e07c",
   "metadata": {},
   "source": [
    "## 1. Install Xcode Command Line Tool\n",
    "If it's not already installed in your system, you can install it by running the following command below in your Mac OSX terminal.\n",
    "\n",
    "xcode-select --install"
   ]
  },
  {
   "cell_type": "markdown",
   "id": "dd48b103",
   "metadata": {},
   "source": [
    "## 2. Install the M1 Miniconda Version\n",
    "Miniconda is the minimal set of features from the extensive Anaconda Python distribution and includes many of the data science related packages that are needed by this class. Download the Miniconda3 macOS Apple M1 64-bit.pkg and install it on your Application directory. <br><br>\n",
    "<b>Miniconda3 </b> download: https://docs.conda.io/en/latest/miniconda.html"
   ]
  },
  {
   "cell_type": "markdown",
   "id": "fdc5e3f0",
   "metadata": {},
   "source": [
    "## 3. Install TensorFlow\n",
    "Change to the Application/miniconda3 directory in your terminal with:\n",
    "\n",
    "cd /Applications/miniconda3"
   ]
  },
  {
   "cell_type": "markdown",
   "id": "780d39de",
   "metadata": {},
   "source": [
    "### Install the TensorFlow dependencies:"
   ]
  },
  {
   "cell_type": "code",
   "execution_count": null,
   "id": "00eadc4a",
   "metadata": {},
   "outputs": [],
   "source": [
    "conda install -c apple tensorflow-deps"
   ]
  },
  {
   "cell_type": "markdown",
   "id": "724874a5",
   "metadata": {},
   "source": [
    "### Install base TensorFlow:"
   ]
  },
  {
   "cell_type": "code",
   "execution_count": null,
   "id": "9b0df049",
   "metadata": {},
   "outputs": [],
   "source": [
    "pip install tensorflow-macos"
   ]
  },
  {
   "cell_type": "markdown",
   "id": "bcd7ec67",
   "metadata": {},
   "source": [
    "### Install Metal plugin:"
   ]
  },
  {
   "cell_type": "code",
   "execution_count": null,
   "id": "e5874204",
   "metadata": {},
   "outputs": [],
   "source": [
    "pip install tensorflow-metal"
   ]
  },
  {
   "cell_type": "markdown",
   "id": "b7be1044",
   "metadata": {},
   "source": [
    "##  4. Install Jupyter Notebook and common packages\n",
    "\n",
    "Install first Jupyter Notebook:"
   ]
  },
  {
   "cell_type": "code",
   "execution_count": null,
   "id": "db4e4b27",
   "metadata": {},
   "outputs": [],
   "source": [
    "conda install notebook -y"
   ]
  },
  {
   "cell_type": "markdown",
   "id": "8e2b55d6",
   "metadata": {},
   "source": [
    "Now install common additional packages and upgrade the packages so that they are updated to the M1 architecture."
   ]
  },
  {
   "cell_type": "code",
   "execution_count": null,
   "id": "897b4991",
   "metadata": {},
   "outputs": [],
   "source": [
    "pip install numpy  --upgrade\n",
    "pip install pandas  --upgrade\n",
    "pip install matplotlib  --upgrade\n",
    "pip install scikit-learn  --upgrade\n",
    "pip install scipy  --upgrade\n",
    "pip install plotly  --upgrade"
   ]
  },
  {
   "cell_type": "markdown",
   "id": "9efa50b0",
   "metadata": {},
   "source": [
    "Start now Jupyter Notebook in your desired working directory <br>\n",
    "(change \"/Users/Jupyterfiles\" with your working directory path)"
   ]
  },
  {
   "cell_type": "code",
   "execution_count": null,
   "id": "353af34e",
   "metadata": {},
   "outputs": [],
   "source": [
    "jupyter notebook --notebook-dir=\"/Users/Jupyterfiles\""
   ]
  },
  {
   "cell_type": "markdown",
   "id": "abe2eeb5",
   "metadata": {},
   "source": [
    "## 5. Check GPU availability"
   ]
  },
  {
   "cell_type": "code",
   "execution_count": 1,
   "id": "54e7786f",
   "metadata": {},
   "outputs": [
    {
     "name": "stdout",
     "output_type": "stream",
     "text": [
      "Python Platform: macOS-13.5.1-arm64-arm-64bit\n",
      "Tensor Flow Version: 2.13.0\n"
     ]
    },
    {
     "ename": "AttributeError",
     "evalue": "module 'tensorflow.keras' has no attribute '__version__'",
     "output_type": "error",
     "traceback": [
      "\u001b[0;31m---------------------------------------------------------------------------\u001b[0m",
      "\u001b[0;31mAttributeError\u001b[0m                            Traceback (most recent call last)",
      "Cell \u001b[0;32mIn[1], line 12\u001b[0m\n\u001b[1;32m     10\u001b[0m \u001b[38;5;28mprint\u001b[39m(\u001b[38;5;124mf\u001b[39m\u001b[38;5;124m\"\u001b[39m\u001b[38;5;124mPython Platform: \u001b[39m\u001b[38;5;132;01m{\u001b[39;00mplatform\u001b[38;5;241m.\u001b[39mplatform()\u001b[38;5;132;01m}\u001b[39;00m\u001b[38;5;124m\"\u001b[39m)\n\u001b[1;32m     11\u001b[0m \u001b[38;5;28mprint\u001b[39m(\u001b[38;5;124mf\u001b[39m\u001b[38;5;124m\"\u001b[39m\u001b[38;5;124mTensor Flow Version: \u001b[39m\u001b[38;5;132;01m{\u001b[39;00mtf\u001b[38;5;241m.\u001b[39m__version__\u001b[38;5;132;01m}\u001b[39;00m\u001b[38;5;124m\"\u001b[39m)\n\u001b[0;32m---> 12\u001b[0m \u001b[38;5;28mprint\u001b[39m(\u001b[38;5;124mf\u001b[39m\u001b[38;5;124m\"\u001b[39m\u001b[38;5;124mKeras Version: \u001b[39m\u001b[38;5;132;01m{\u001b[39;00m\u001b[43mtensorflow\u001b[49m\u001b[38;5;241;43m.\u001b[39;49m\u001b[43mkeras\u001b[49m\u001b[38;5;241;43m.\u001b[39;49m\u001b[43m__version__\u001b[49m\u001b[38;5;132;01m}\u001b[39;00m\u001b[38;5;124m\"\u001b[39m)\n\u001b[1;32m     13\u001b[0m \u001b[38;5;28mprint\u001b[39m()\n\u001b[1;32m     14\u001b[0m \u001b[38;5;28mprint\u001b[39m(\u001b[38;5;124mf\u001b[39m\u001b[38;5;124m\"\u001b[39m\u001b[38;5;124mPython \u001b[39m\u001b[38;5;132;01m{\u001b[39;00msys\u001b[38;5;241m.\u001b[39mversion\u001b[38;5;132;01m}\u001b[39;00m\u001b[38;5;124m\"\u001b[39m)\n",
      "\u001b[0;31mAttributeError\u001b[0m: module 'tensorflow.keras' has no attribute '__version__'"
     ]
    }
   ],
   "source": [
    "import sys\n",
    "\n",
    "import tensorflow.keras\n",
    "import pandas as pd\n",
    "import sklearn as sk\n",
    "import scipy as sp\n",
    "import tensorflow as tf\n",
    "import platform\n",
    "\n",
    "print(f\"Python Platform: {platform.platform()}\")\n",
    "print(f\"Tensor Flow Version: {tf.__version__}\")\n",
    "print(f\"Keras Version: {tensorflow.keras.}\")\n",
    "print()\n",
    "print(f\"Python {sys.version}\")\n",
    "print(f\"Pandas {pd.__version__}\")\n",
    "print(f\"Scikit-Learn {sk.__version__}\")\n",
    "print(f\"SciPy {sp.__version__}\")\n",
    "gpu = len(tf.config.list_physical_devices('GPU'))>0\n",
    "print(\"GPU is\", \"available\" if gpu else \"NOT AVAILABLE\")"
   ]
  },
  {
   "cell_type": "code",
   "execution_count": null,
   "id": "c3cea7dd",
   "metadata": {},
   "outputs": [],
   "source": []
  }
 ],
 "metadata": {
  "kernelspec": {
   "display_name": "Python 3 (ipykernel)",
   "language": "python",
   "name": "python3"
  },
  "language_info": {
   "codemirror_mode": {
    "name": "ipython",
    "version": 3
   },
   "file_extension": ".py",
   "mimetype": "text/x-python",
   "name": "python",
   "nbconvert_exporter": "python",
   "pygments_lexer": "ipython3",
   "version": "3.10.9"
  }
 },
 "nbformat": 4,
 "nbformat_minor": 5
}
